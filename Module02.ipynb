{
 "cells": [
  {
   "cell_type": "markdown",
   "metadata": {},
   "source": [
    "# Creación Paquete Python"
   ]
  },
  {
   "cell_type": "markdown",
   "metadata": {},
   "source": [
    "## Paso 1\n",
    "Creamos en entorno virtual vía el comando:\n",
    "\n",
    "```\n",
    "    python3 -m venv env \n",
    "```\n",
    "\n",
    "**Captura 1:**\n",
    "\n",
    "![Creación de entorno virtual](https://github.com/damianetienne/KatasDELaunchX/blob/main/Module02src/1.png?raw=true)\n",
    "\n",
    "Comprobamos la nueva estructura de archivos bajo la carpeta venv\n",
    "\n",
    "**Captura 2:**\n",
    "\n",
    "![Comprobación de estructura de carpeta entorno virtual](https://github.com/damianetienne/KatasDELaunchX/blob/main/Module02src/2.png?raw=true)"
   ]
  },
  {
   "cell_type": "markdown",
   "metadata": {},
   "source": [
    "## Paso 2\n",
    "Activamos el entorno virtual (El host es un OS Windows 10 con Python 3.10 instalado desde Windows Store)\n",
    "\n",
    "```\n",
    "    env\\Scripts\\activate\n",
    "```\n",
    "\n",
    "**Captura 3:**\n",
    "\n",
    "![Activación de entorno virtual](https://github.com/damianetienne/KatasDELaunchX/blob/main/Module02src/3.png?raw=true)"
   ]
  },
  {
   "cell_type": "markdown",
   "metadata": {},
   "source": [
    "## Paso 3\n",
    "\n",
    "Verificamos las bibliotecas instaladas en el entorno virtual con el comando:\n",
    "\n",
    "```\n",
    "    pip freeze\n",
    "```\n",
    "\n",
    "**Captura 4:**\n",
    "\n",
    "![Verificación de bibliotecas instaladas en el nuevo entorno virtual](https://github.com/damianetienne/KatasDELaunchX/blob/main/Module02src/4.png?raw=true)\n",
    "\n",
    "Comprobando que no se ha instalado ninguna biblioteca en este entorno virtual"
   ]
  },
  {
   "cell_type": "markdown",
   "metadata": {},
   "source": [
    "## Paso 4\n",
    "\n",
    "Instalamos la biblioteca python-dateutil con el uso de pip\n",
    "\n",
    "```\n",
    "    pip install python-dateutil\n",
    "```\n",
    "\n",
    "**Captura 5:**\n",
    "\n",
    "![Proceso de instalación de python-dateutil](https://github.com/damianetienne/KatasDELaunchX/blob/main/Module02src/5.png?raw=true)"
   ]
  },
  {
   "cell_type": "markdown",
   "metadata": {},
   "source": [
    "## Paso 5\n",
    "\n",
    "Comprobamos nuevamente las bibliotecas instaladas en nuestro entorno virtual\n",
    "\n",
    "```\n",
    "    pip freeze\n",
    "```\n",
    "\n",
    "**Captura 6:**\n",
    "\n",
    "![Verificación de instalación python-dateutil](https://github.com/damianetienne/KatasDELaunchX/blob/main/Module02src/6.png?raw=true)\n",
    "\n",
    "Donde ahora se muestra la biblioteca *python-dateutil* junto con la biblioteca *six* la cual es dependencia de la primera mencionada"
   ]
  },
  {
   "cell_type": "markdown",
   "metadata": {},
   "source": [
    "## Paso 6\n",
    "\n",
    "Por último, desactivamos nuestro entorno virtual mediante el comando\n",
    "\n",
    "```\n",
    "    deactivate\n",
    "```\n",
    "\n",
    "**Captura 7:**\n",
    "\n",
    "![Verificación de instalación python-dateutil](https://github.com/damianetienne/KatasDELaunchX/blob/main/Module02src/7.png?raw=true)\n",
    "\n",
    "Donde volvemos a la operación normal de nuestra terminal"
   ]
  }
 ],
 "metadata": {
  "interpreter": {
   "hash": "a112766f9e1923330d20242140fafc848fee1a017ad1265dec2cd805bb850b9a"
  },
  "kernelspec": {
   "display_name": "Python 3.10.2 64-bit",
   "language": "python",
   "name": "python3"
  },
  "language_info": {
   "name": "python",
   "version": "3.10.2"
  },
  "orig_nbformat": 4
 },
 "nbformat": 4,
 "nbformat_minor": 2
}
