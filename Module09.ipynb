{
 "cells": [
  {
   "cell_type": "markdown",
   "metadata": {},
   "source": [
    "# Kata 9"
   ]
  },
  {
   "cell_type": "markdown",
   "metadata": {},
   "source": [
    "## Ejercicio 1"
   ]
  },
  {
   "cell_type": "code",
   "execution_count": 80,
   "metadata": {},
   "outputs": [],
   "source": [
    "# Función para leer 3 tanques de combustible y muestre el promedio\n",
    "def informe(t1,t2,t3):\n",
    "    promediot=(t1+t2+t3)/3\n",
    "    return f\"\"\"Informe de Combustible\n",
    "{'-'*70}\n",
    "Tanque 1: {t1} toneladas\n",
    "Tanque 2: {t2} toneladas\n",
    "Tanque 3: {t3} toneladas\n",
    "Promedio de tanques: {promediot} toneladas\n",
    "\"\"\""
   ]
  },
  {
   "cell_type": "code",
   "execution_count": 81,
   "metadata": {},
   "outputs": [
    {
     "name": "stdout",
     "output_type": "stream",
     "text": [
      "Informe de Combustible\n",
      "----------------------------------------------------------------------\n",
      "Tanque 1: 200 toneladas\n",
      "Tanque 2: 800 toneladas\n",
      "Tanque 3: 11 toneladas\n",
      "Promedio de tanques: 337.0 toneladas\n",
      "\n"
     ]
    }
   ],
   "source": [
    "# Llamamos a la función que genera el reporte print(funcion(tanque1, tanque2, tanque3))\n",
    "print(informe(200,800,11))"
   ]
  },
  {
   "cell_type": "code",
   "execution_count": 82,
   "metadata": {},
   "outputs": [],
   "source": [
    "# Función promedio \n",
    "def promedio(combustible):\n",
    "    total=sum(combustible)\n",
    "    elementos=len(combustible)\n",
    "    promediores=total/elementos\n",
    "    return promediores"
   ]
  },
  {
   "cell_type": "code",
   "execution_count": 83,
   "metadata": {},
   "outputs": [],
   "source": [
    "# Actualiza la función\n",
    "def informe(t1,t2,t3):\n",
    "    return f\"\"\"Informe de Combustible\n",
    "{'-'*70}\n",
    "Tanque 1: {t1} toneladas\n",
    "Tanque 2: {t2} toneladas\n",
    "Tanque 3: {t3} toneladas\n",
    "Promedio de tanques: {promedio([t1,t2,t3])} toneladas\n",
    "\"\"\""
   ]
  },
  {
   "cell_type": "code",
   "execution_count": 84,
   "metadata": {},
   "outputs": [
    {
     "name": "stdout",
     "output_type": "stream",
     "text": [
      "Informe de Combustible\n",
      "----------------------------------------------------------------------\n",
      "Tanque 1: 200 toneladas\n",
      "Tanque 2: 800 toneladas\n",
      "Tanque 3: 11 toneladas\n",
      "Promedio de tanques: 337.0 toneladas\n",
      "\n"
     ]
    }
   ],
   "source": [
    "print(informe(200,800,11))"
   ]
  },
  {
   "cell_type": "markdown",
   "metadata": {},
   "source": [
    "## Ejercicio 2"
   ]
  },
  {
   "cell_type": "code",
   "execution_count": 85,
   "metadata": {},
   "outputs": [
    {
     "name": "stdout",
     "output_type": "stream",
     "text": [
      "Informe de la Misión\n",
      "----------------------------------------------------------------------\n",
      "Hora de prelanzamiento: 14\n",
      "Tiempo de vuelo: 32\n",
      "Destino: Luna\n",
      "Combustible en Tanque Externo: 200 toneladas\n",
      "Combustible en Tanque Interno: 400 toneladas\n",
      "\n"
     ]
    }
   ],
   "source": [
    "# Función con un informe preciso de la misión. Considera hora de prelanzamiento, tiempo de vuelo, destino, tanque externo y tanque interno\n",
    "def mision(prel,tvuel,dest,taext,taint):\n",
    "    return f\"\"\"Informe de la Misión\n",
    "{'-'*70}\n",
    "Hora de prelanzamiento: {prel}\n",
    "Tiempo de vuelo: {tvuel}\n",
    "Destino: {dest}\n",
    "Combustible en Tanque Externo: {taext} toneladas\n",
    "Combustible en Tanque Interno: {taint} toneladas\n",
    "\"\"\"\n",
    "print(mision(14,32,\"Luna\",200,400))"
   ]
  },
  {
   "cell_type": "code",
   "execution_count": 86,
   "metadata": {},
   "outputs": [
    {
     "name": "stdout",
     "output_type": "stream",
     "text": [
      "Informe de la Misión\n",
      "----------------------------------------------------------------------\n",
      "Destino: Luna\n",
      "Suma de tiempos de la misión: 34675 segundos\n",
      "Suma del combustible en todos los tanques: 85160 toneladas\n",
      "\n"
     ]
    }
   ],
   "source": [
    "# Escribe tu nueva función de reporte considerando lo anterior\n",
    "def mision(dest,*tiempos,**tanques):\n",
    "    return f\"\"\"Informe de la Misión\n",
    "{'-'*70}\n",
    "Destino: {dest}\n",
    "Suma de tiempos de la misión: {sum(tiempos)} segundos\n",
    "Suma del combustible en todos los tanques: {sum(tanques.values())} toneladas\n",
    "\"\"\"\n",
    "print(mision(\"Luna\",31,45,34567,32,interno=2123,externo=32133,emergencia=23231,auxiliar=27673))"
   ]
  },
  {
   "cell_type": "code",
   "execution_count": 87,
   "metadata": {},
   "outputs": [
    {
     "name": "stdout",
     "output_type": "stream",
     "text": [
      "Informe de la Misión\n",
      "----------------------------------------------------------------------\n",
      "Destino: Luna\n",
      "Suma de tiempos de la misión: 34675 segundos.\n",
      "Suma del combustible en todos los tanques: 85160 toneladas.\n",
      "Tanque interno: Tiene 2123 toneladas de combustible.\n",
      "Tanque externo: Tiene 32133 toneladas de combustible.\n",
      "Tanque emergencia: Tiene 23231 toneladas de combustible.\n",
      "Tanque auxiliar: Tiene 27673 toneladas de combustible.\n",
      "\n"
     ]
    }
   ],
   "source": [
    "# Escribe tu nueva función\n",
    "def mision(dest,*tiempos,**tanques):\n",
    "    rep=f\"\"\"Informe de la Misión\n",
    "{'-'*70}\n",
    "Destino: {dest}\n",
    "Suma de tiempos de la misión: {sum(tiempos)} segundos.\n",
    "Suma del combustible en todos los tanques: {sum(tanques.values())} toneladas.\n",
    "\"\"\"\n",
    "    for tanque, tonel in tanques.items():\n",
    "        rep=rep+f\"Tanque {tanque}: Tiene {tonel} toneladas de combustible.\\n\"\n",
    "    return rep\n",
    "        \n",
    "print(mision(\"Luna\",31,45,34567,32,interno=2123,externo=32133,emergencia=23231,auxiliar=27673))"
   ]
  }
 ],
 "metadata": {
  "interpreter": {
   "hash": "a112766f9e1923330d20242140fafc848fee1a017ad1265dec2cd805bb850b9a"
  },
  "kernelspec": {
   "display_name": "Python 3.10.2 64-bit",
   "language": "python",
   "name": "python3"
  },
  "language_info": {
   "codemirror_mode": {
    "name": "ipython",
    "version": 3
   },
   "file_extension": ".py",
   "mimetype": "text/x-python",
   "name": "python",
   "nbconvert_exporter": "python",
   "pygments_lexer": "ipython3",
   "version": "3.10.2"
  },
  "orig_nbformat": 4
 },
 "nbformat": 4,
 "nbformat_minor": 2
}
