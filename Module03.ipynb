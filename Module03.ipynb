{
 "cells": [
  {
   "cell_type": "markdown",
   "metadata": {},
   "source": [
    "# Kata03"
   ]
  },
  {
   "cell_type": "markdown",
   "metadata": {},
   "source": [
    "## Ejercicio 1"
   ]
  },
  {
   "cell_type": "code",
   "execution_count": 7,
   "metadata": {},
   "outputs": [
    {
     "name": "stdout",
     "output_type": "stream",
     "text": [
      "Un asteroide se acerca, y viaja a una velocidad de 49 km/s\n"
     ]
    }
   ],
   "source": [
    "# Añadir el código necesario para crear una variable que guarde la velocidad del asteroide.\n",
    "# Escribe una expresión de prueba para calcular si necesita una advertencia.\n",
    "# Agregue las instrucciones que se ejecutarán si la expresión de prueba es true o false.\n",
    "v=49\n",
    "adv=\"Un asteroide se acerca, y viaja a una velocidad de \"\n",
    "libre=\"Asteroide detectado, no se presenta peligro\"\n",
    "if v>=25:\n",
    "    print(adv+str(v)+\" km/s\")\n",
    "else:\n",
    "    print(libre)"
   ]
  },
  {
   "cell_type": "markdown",
   "metadata": {},
   "source": [
    "## Ejercicio 2"
   ]
  },
  {
   "cell_type": "code",
   "execution_count": 12,
   "metadata": {},
   "outputs": [
    {
     "name": "stdout",
     "output_type": "stream",
     "text": [
      "No se espera destello por meteoro\n"
     ]
    }
   ],
   "source": [
    "# Agrega el código para crear una variable para un asteroide que viaja a 19 km/s\n",
    "# Escribe varias expresiones de prueba para determinar si puedes ver el rayo de luz desde la tierra\n",
    "# Agrega las instrucciones que se ejecutarán si las expresiones de prueba son True o False\n",
    "v=19\n",
    "msj=\"Posible destello por meteoro ingresando a la Tierra\"\n",
    "msj2=\"Destello por meteoro apenas visible\"\n",
    "msj_under=\"No se espera destello por meteoro\"\n",
    "if v>20:\n",
    "    print(msj)\n",
    "elif v==20:\n",
    "    print(msj2)\n",
    "else:\n",
    "    print(msj_under)"
   ]
  },
  {
   "cell_type": "markdown",
   "metadata": {},
   "source": [
    "## Ejercicio 3"
   ]
  },
  {
   "cell_type": "code",
   "execution_count": 21,
   "metadata": {},
   "outputs": [
    {
     "name": "stdout",
     "output_type": "stream",
     "text": [
      "Un asteroide se acerca, y viaja a una velocidad de 60 km/s\n"
     ]
    }
   ],
   "source": [
    "# Agrega el código para crear nuevas variables para la velocidad y el tamaño del asteroide\n",
    "# Para probar el código, prueba con varias velocidades y tamaños\n",
    "# Escribe varias expresiones de prueba o combinaciones de expresiones de prueba para determinar qué mensaje se debe enviar a Tierra.\n",
    "v=60\n",
    "d=21\n",
    "msj=\"Un asteroide peligroso se acerca a la Tierra\"\n",
    "msj1=\"Un asteroide se acerca, y viaja a una velocidad de \"\n",
    "msj2=\"Se espera destello por meteoro\"\n",
    "msj_under=\"Asteroide detectado, no se presenta peligro\"\n",
    "if v>20 and d>25 and d<1000:\n",
    "    print(msj)\n",
    "elif v>25:\n",
    "    print(msj1+str(v)+\" km/s\")\n",
    "elif v>=20:\n",
    "    print(msj2)\n",
    "else:\n",
    "    print(msj_under)"
   ]
  }
 ],
 "metadata": {
  "interpreter": {
   "hash": "a112766f9e1923330d20242140fafc848fee1a017ad1265dec2cd805bb850b9a"
  },
  "kernelspec": {
   "display_name": "Python 3.10.2 64-bit",
   "language": "python",
   "name": "python3"
  },
  "language_info": {
   "codemirror_mode": {
    "name": "ipython",
    "version": 3
   },
   "file_extension": ".py",
   "mimetype": "text/x-python",
   "name": "python",
   "nbconvert_exporter": "python",
   "pygments_lexer": "ipython3",
   "version": "3.10.2"
  },
  "orig_nbformat": 4
 },
 "nbformat": 4,
 "nbformat_minor": 2
}
